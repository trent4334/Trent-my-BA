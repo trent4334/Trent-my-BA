{
 "cells": [
  {
   "cell_type": "code",
   "execution_count": 1,
   "id": "4ed8c25c-8f84-4ae2-9243-c4695ecc973b",
   "metadata": {},
   "outputs": [
    {
     "name": "stderr",
     "output_type": "stream",
     "text": [
      "/tmp/ipykernel_2139/2035458946.py:1: DeprecationWarning: \n",
      "Pyarrow will become a required dependency of pandas in the next major release of pandas (pandas 3.0),\n",
      "(to allow more performant data types, such as the Arrow string type, and better interoperability with other libraries)\n",
      "but was not found to be installed on your system.\n",
      "If this would cause problems for you,\n",
      "please provide us feedback at https://github.com/pandas-dev/pandas/issues/54466\n",
      "        \n",
      "  import pandas as pd\n"
     ]
    }
   ],
   "source": [
    "import pandas as pd\n"
   ]
  },
  {
   "cell_type": "code",
   "execution_count": 2,
   "id": "3aa5db8e-7023-47e9-bc87-d9b794f8cdce",
   "metadata": {},
   "outputs": [],
   "source": [
    "df = pd.read_pickle(r\"shared/Motor_Vehicle_Collisions_-_Crashes.pkl\")"
   ]
  },
  {
   "cell_type": "code",
   "execution_count": 4,
   "id": "b8edfc77-2b56-4dbe-8d93-2611609f1771",
   "metadata": {},
   "outputs": [
    {
     "data": {
      "text/html": [
       "<div>\n",
       "<style scoped>\n",
       "    .dataframe tbody tr th:only-of-type {\n",
       "        vertical-align: middle;\n",
       "    }\n",
       "\n",
       "    .dataframe tbody tr th {\n",
       "        vertical-align: top;\n",
       "    }\n",
       "\n",
       "    .dataframe thead th {\n",
       "        text-align: right;\n",
       "    }\n",
       "</style>\n",
       "<table border=\"1\" class=\"dataframe\">\n",
       "  <thead>\n",
       "    <tr style=\"text-align: right;\">\n",
       "      <th></th>\n",
       "      <th>CRASH DATE_CRASH TIME</th>\n",
       "      <th>BOROUGH</th>\n",
       "      <th>ZIP CODE</th>\n",
       "      <th>LATITUDE</th>\n",
       "      <th>LONGITUDE</th>\n",
       "      <th>LOCATION</th>\n",
       "      <th>ON STREET NAME</th>\n",
       "      <th>CROSS STREET NAME</th>\n",
       "      <th>OFF STREET NAME</th>\n",
       "      <th>NUMBER OF PERSONS INJURED</th>\n",
       "      <th>...</th>\n",
       "      <th>CONTRIBUTING FACTOR VEHICLE 2</th>\n",
       "      <th>CONTRIBUTING FACTOR VEHICLE 3</th>\n",
       "      <th>CONTRIBUTING FACTOR VEHICLE 4</th>\n",
       "      <th>CONTRIBUTING FACTOR VEHICLE 5</th>\n",
       "      <th>COLLISION_ID</th>\n",
       "      <th>VEHICLE TYPE CODE 1</th>\n",
       "      <th>VEHICLE TYPE CODE 2</th>\n",
       "      <th>VEHICLE TYPE CODE 3</th>\n",
       "      <th>VEHICLE TYPE CODE 4</th>\n",
       "      <th>VEHICLE TYPE CODE 5</th>\n",
       "    </tr>\n",
       "  </thead>\n",
       "  <tbody>\n",
       "    <tr>\n",
       "      <th>0</th>\n",
       "      <td>2021-09-11 02:39:00</td>\n",
       "      <td>NaN</td>\n",
       "      <td>NaN</td>\n",
       "      <td>NaN</td>\n",
       "      <td>NaN</td>\n",
       "      <td>NaN</td>\n",
       "      <td>WHITESTONE EXPRESSWAY</td>\n",
       "      <td>20 AVENUE</td>\n",
       "      <td>NaN</td>\n",
       "      <td>2.0</td>\n",
       "      <td>...</td>\n",
       "      <td>Unspecified</td>\n",
       "      <td>NaN</td>\n",
       "      <td>NaN</td>\n",
       "      <td>NaN</td>\n",
       "      <td>4455765</td>\n",
       "      <td>Sedan</td>\n",
       "      <td>Sedan</td>\n",
       "      <td>NaN</td>\n",
       "      <td>NaN</td>\n",
       "      <td>NaN</td>\n",
       "    </tr>\n",
       "    <tr>\n",
       "      <th>1</th>\n",
       "      <td>2022-03-26 11:45:00</td>\n",
       "      <td>NaN</td>\n",
       "      <td>NaN</td>\n",
       "      <td>NaN</td>\n",
       "      <td>NaN</td>\n",
       "      <td>NaN</td>\n",
       "      <td>QUEENSBORO BRIDGE UPPER</td>\n",
       "      <td>NaN</td>\n",
       "      <td>NaN</td>\n",
       "      <td>1.0</td>\n",
       "      <td>...</td>\n",
       "      <td>NaN</td>\n",
       "      <td>NaN</td>\n",
       "      <td>NaN</td>\n",
       "      <td>NaN</td>\n",
       "      <td>4513547</td>\n",
       "      <td>Sedan</td>\n",
       "      <td>NaN</td>\n",
       "      <td>NaN</td>\n",
       "      <td>NaN</td>\n",
       "      <td>NaN</td>\n",
       "    </tr>\n",
       "    <tr>\n",
       "      <th>2</th>\n",
       "      <td>2022-06-29 06:55:00</td>\n",
       "      <td>NaN</td>\n",
       "      <td>NaN</td>\n",
       "      <td>NaN</td>\n",
       "      <td>NaN</td>\n",
       "      <td>NaN</td>\n",
       "      <td>THROGS NECK BRIDGE</td>\n",
       "      <td>NaN</td>\n",
       "      <td>NaN</td>\n",
       "      <td>0.0</td>\n",
       "      <td>...</td>\n",
       "      <td>Unspecified</td>\n",
       "      <td>NaN</td>\n",
       "      <td>NaN</td>\n",
       "      <td>NaN</td>\n",
       "      <td>4541903</td>\n",
       "      <td>Sedan</td>\n",
       "      <td>Pick-up Truck</td>\n",
       "      <td>NaN</td>\n",
       "      <td>NaN</td>\n",
       "      <td>NaN</td>\n",
       "    </tr>\n",
       "    <tr>\n",
       "      <th>3</th>\n",
       "      <td>2021-09-11 09:35:00</td>\n",
       "      <td>BROOKLYN</td>\n",
       "      <td>11208.0</td>\n",
       "      <td>40.667202</td>\n",
       "      <td>-73.866500</td>\n",
       "      <td>(40.667202, -73.8665)</td>\n",
       "      <td>NaN</td>\n",
       "      <td>NaN</td>\n",
       "      <td>1211      LORING AVENUE</td>\n",
       "      <td>0.0</td>\n",
       "      <td>...</td>\n",
       "      <td>NaN</td>\n",
       "      <td>NaN</td>\n",
       "      <td>NaN</td>\n",
       "      <td>NaN</td>\n",
       "      <td>4456314</td>\n",
       "      <td>Sedan</td>\n",
       "      <td>NaN</td>\n",
       "      <td>NaN</td>\n",
       "      <td>NaN</td>\n",
       "      <td>NaN</td>\n",
       "    </tr>\n",
       "    <tr>\n",
       "      <th>4</th>\n",
       "      <td>2021-12-14 08:13:00</td>\n",
       "      <td>BROOKLYN</td>\n",
       "      <td>11233.0</td>\n",
       "      <td>40.683304</td>\n",
       "      <td>-73.917274</td>\n",
       "      <td>(40.683304, -73.917274)</td>\n",
       "      <td>SARATOGA AVENUE</td>\n",
       "      <td>DECATUR STREET</td>\n",
       "      <td>NaN</td>\n",
       "      <td>0.0</td>\n",
       "      <td>...</td>\n",
       "      <td>NaN</td>\n",
       "      <td>NaN</td>\n",
       "      <td>NaN</td>\n",
       "      <td>NaN</td>\n",
       "      <td>4486609</td>\n",
       "      <td>NaN</td>\n",
       "      <td>NaN</td>\n",
       "      <td>NaN</td>\n",
       "      <td>NaN</td>\n",
       "      <td>NaN</td>\n",
       "    </tr>\n",
       "    <tr>\n",
       "      <th>5</th>\n",
       "      <td>2021-04-14 12:47:00</td>\n",
       "      <td>NaN</td>\n",
       "      <td>NaN</td>\n",
       "      <td>NaN</td>\n",
       "      <td>NaN</td>\n",
       "      <td>NaN</td>\n",
       "      <td>MAJOR DEEGAN EXPRESSWAY RAMP</td>\n",
       "      <td>NaN</td>\n",
       "      <td>NaN</td>\n",
       "      <td>0.0</td>\n",
       "      <td>...</td>\n",
       "      <td>Unspecified</td>\n",
       "      <td>NaN</td>\n",
       "      <td>NaN</td>\n",
       "      <td>NaN</td>\n",
       "      <td>4407458</td>\n",
       "      <td>Dump</td>\n",
       "      <td>Sedan</td>\n",
       "      <td>NaN</td>\n",
       "      <td>NaN</td>\n",
       "      <td>NaN</td>\n",
       "    </tr>\n",
       "    <tr>\n",
       "      <th>6</th>\n",
       "      <td>2021-12-14 17:05:00</td>\n",
       "      <td>NaN</td>\n",
       "      <td>NaN</td>\n",
       "      <td>40.709183</td>\n",
       "      <td>-73.956825</td>\n",
       "      <td>(40.709183, -73.956825)</td>\n",
       "      <td>BROOKLYN QUEENS EXPRESSWAY</td>\n",
       "      <td>NaN</td>\n",
       "      <td>NaN</td>\n",
       "      <td>0.0</td>\n",
       "      <td>...</td>\n",
       "      <td>Unspecified</td>\n",
       "      <td>NaN</td>\n",
       "      <td>NaN</td>\n",
       "      <td>NaN</td>\n",
       "      <td>4486555</td>\n",
       "      <td>Sedan</td>\n",
       "      <td>Tractor Truck Diesel</td>\n",
       "      <td>NaN</td>\n",
       "      <td>NaN</td>\n",
       "      <td>NaN</td>\n",
       "    </tr>\n",
       "    <tr>\n",
       "      <th>7</th>\n",
       "      <td>2021-12-14 08:17:00</td>\n",
       "      <td>BRONX</td>\n",
       "      <td>10475.0</td>\n",
       "      <td>40.868160</td>\n",
       "      <td>-73.831480</td>\n",
       "      <td>(40.86816, -73.83148)</td>\n",
       "      <td>NaN</td>\n",
       "      <td>NaN</td>\n",
       "      <td>344       BAYCHESTER AVENUE</td>\n",
       "      <td>2.0</td>\n",
       "      <td>...</td>\n",
       "      <td>Unspecified</td>\n",
       "      <td>NaN</td>\n",
       "      <td>NaN</td>\n",
       "      <td>NaN</td>\n",
       "      <td>4486660</td>\n",
       "      <td>Sedan</td>\n",
       "      <td>Sedan</td>\n",
       "      <td>NaN</td>\n",
       "      <td>NaN</td>\n",
       "      <td>NaN</td>\n",
       "    </tr>\n",
       "    <tr>\n",
       "      <th>8</th>\n",
       "      <td>2021-12-14 21:10:00</td>\n",
       "      <td>BROOKLYN</td>\n",
       "      <td>11207.0</td>\n",
       "      <td>40.671720</td>\n",
       "      <td>-73.897100</td>\n",
       "      <td>(40.67172, -73.8971)</td>\n",
       "      <td>NaN</td>\n",
       "      <td>NaN</td>\n",
       "      <td>2047      PITKIN AVENUE</td>\n",
       "      <td>0.0</td>\n",
       "      <td>...</td>\n",
       "      <td>Unspecified</td>\n",
       "      <td>NaN</td>\n",
       "      <td>NaN</td>\n",
       "      <td>NaN</td>\n",
       "      <td>4487074</td>\n",
       "      <td>Sedan</td>\n",
       "      <td>NaN</td>\n",
       "      <td>NaN</td>\n",
       "      <td>NaN</td>\n",
       "      <td>NaN</td>\n",
       "    </tr>\n",
       "    <tr>\n",
       "      <th>9</th>\n",
       "      <td>2021-12-14 14:58:00</td>\n",
       "      <td>MANHATTAN</td>\n",
       "      <td>10017.0</td>\n",
       "      <td>40.751440</td>\n",
       "      <td>-73.973970</td>\n",
       "      <td>(40.75144, -73.97397)</td>\n",
       "      <td>3 AVENUE</td>\n",
       "      <td>EAST 43 STREET</td>\n",
       "      <td>NaN</td>\n",
       "      <td>0.0</td>\n",
       "      <td>...</td>\n",
       "      <td>Unspecified</td>\n",
       "      <td>NaN</td>\n",
       "      <td>NaN</td>\n",
       "      <td>NaN</td>\n",
       "      <td>4486519</td>\n",
       "      <td>Sedan</td>\n",
       "      <td>Station Wagon/Sport Utility Vehicle</td>\n",
       "      <td>NaN</td>\n",
       "      <td>NaN</td>\n",
       "      <td>NaN</td>\n",
       "    </tr>\n",
       "  </tbody>\n",
       "</table>\n",
       "<p>10 rows × 28 columns</p>\n",
       "</div>"
      ],
      "text/plain": [
       "  CRASH DATE_CRASH TIME    BOROUGH ZIP CODE   LATITUDE  LONGITUDE  \\\n",
       "0   2021-09-11 02:39:00        NaN      NaN        NaN        NaN   \n",
       "1   2022-03-26 11:45:00        NaN      NaN        NaN        NaN   \n",
       "2   2022-06-29 06:55:00        NaN      NaN        NaN        NaN   \n",
       "3   2021-09-11 09:35:00   BROOKLYN  11208.0  40.667202 -73.866500   \n",
       "4   2021-12-14 08:13:00   BROOKLYN  11233.0  40.683304 -73.917274   \n",
       "5   2021-04-14 12:47:00        NaN      NaN        NaN        NaN   \n",
       "6   2021-12-14 17:05:00        NaN      NaN  40.709183 -73.956825   \n",
       "7   2021-12-14 08:17:00      BRONX  10475.0  40.868160 -73.831480   \n",
       "8   2021-12-14 21:10:00   BROOKLYN  11207.0  40.671720 -73.897100   \n",
       "9   2021-12-14 14:58:00  MANHATTAN  10017.0  40.751440 -73.973970   \n",
       "\n",
       "                  LOCATION                ON STREET NAME CROSS STREET NAME  \\\n",
       "0                      NaN         WHITESTONE EXPRESSWAY         20 AVENUE   \n",
       "1                      NaN       QUEENSBORO BRIDGE UPPER               NaN   \n",
       "2                      NaN            THROGS NECK BRIDGE               NaN   \n",
       "3    (40.667202, -73.8665)                           NaN               NaN   \n",
       "4  (40.683304, -73.917274)               SARATOGA AVENUE    DECATUR STREET   \n",
       "5                      NaN  MAJOR DEEGAN EXPRESSWAY RAMP               NaN   \n",
       "6  (40.709183, -73.956825)    BROOKLYN QUEENS EXPRESSWAY               NaN   \n",
       "7    (40.86816, -73.83148)                           NaN               NaN   \n",
       "8     (40.67172, -73.8971)                           NaN               NaN   \n",
       "9    (40.75144, -73.97397)                      3 AVENUE    EAST 43 STREET   \n",
       "\n",
       "               OFF STREET NAME  NUMBER OF PERSONS INJURED  ...  \\\n",
       "0                          NaN                        2.0  ...   \n",
       "1                          NaN                        1.0  ...   \n",
       "2                          NaN                        0.0  ...   \n",
       "3      1211      LORING AVENUE                        0.0  ...   \n",
       "4                          NaN                        0.0  ...   \n",
       "5                          NaN                        0.0  ...   \n",
       "6                          NaN                        0.0  ...   \n",
       "7  344       BAYCHESTER AVENUE                        2.0  ...   \n",
       "8      2047      PITKIN AVENUE                        0.0  ...   \n",
       "9                          NaN                        0.0  ...   \n",
       "\n",
       "   CONTRIBUTING FACTOR VEHICLE 2  CONTRIBUTING FACTOR VEHICLE 3  \\\n",
       "0                    Unspecified                            NaN   \n",
       "1                            NaN                            NaN   \n",
       "2                    Unspecified                            NaN   \n",
       "3                            NaN                            NaN   \n",
       "4                            NaN                            NaN   \n",
       "5                    Unspecified                            NaN   \n",
       "6                    Unspecified                            NaN   \n",
       "7                    Unspecified                            NaN   \n",
       "8                    Unspecified                            NaN   \n",
       "9                    Unspecified                            NaN   \n",
       "\n",
       "   CONTRIBUTING FACTOR VEHICLE 4  CONTRIBUTING FACTOR VEHICLE 5  COLLISION_ID  \\\n",
       "0                            NaN                            NaN       4455765   \n",
       "1                            NaN                            NaN       4513547   \n",
       "2                            NaN                            NaN       4541903   \n",
       "3                            NaN                            NaN       4456314   \n",
       "4                            NaN                            NaN       4486609   \n",
       "5                            NaN                            NaN       4407458   \n",
       "6                            NaN                            NaN       4486555   \n",
       "7                            NaN                            NaN       4486660   \n",
       "8                            NaN                            NaN       4487074   \n",
       "9                            NaN                            NaN       4486519   \n",
       "\n",
       "   VEHICLE TYPE CODE 1                  VEHICLE TYPE CODE 2  \\\n",
       "0                Sedan                                Sedan   \n",
       "1                Sedan                                  NaN   \n",
       "2                Sedan                        Pick-up Truck   \n",
       "3                Sedan                                  NaN   \n",
       "4                  NaN                                  NaN   \n",
       "5                 Dump                                Sedan   \n",
       "6                Sedan                 Tractor Truck Diesel   \n",
       "7                Sedan                                Sedan   \n",
       "8                Sedan                                  NaN   \n",
       "9                Sedan  Station Wagon/Sport Utility Vehicle   \n",
       "\n",
       "  VEHICLE TYPE CODE 3 VEHICLE TYPE CODE 4 VEHICLE TYPE CODE 5  \n",
       "0                 NaN                 NaN                 NaN  \n",
       "1                 NaN                 NaN                 NaN  \n",
       "2                 NaN                 NaN                 NaN  \n",
       "3                 NaN                 NaN                 NaN  \n",
       "4                 NaN                 NaN                 NaN  \n",
       "5                 NaN                 NaN                 NaN  \n",
       "6                 NaN                 NaN                 NaN  \n",
       "7                 NaN                 NaN                 NaN  \n",
       "8                 NaN                 NaN                 NaN  \n",
       "9                 NaN                 NaN                 NaN  \n",
       "\n",
       "[10 rows x 28 columns]"
      ]
     },
     "execution_count": 4,
     "metadata": {},
     "output_type": "execute_result"
    }
   ],
   "source": [
    "#Check the layout of the dataset\n",
    "\n",
    "df.head(10)"
   ]
  },
  {
   "cell_type": "code",
   "execution_count": 7,
   "id": "288b1e28-fbc0-4b1a-bf97-1c7bc69f6c7b",
   "metadata": {},
   "outputs": [],
   "source": [
    "df.to_csv('motor.csv')"
   ]
  },
  {
   "cell_type": "code",
   "execution_count": 8,
   "id": "9cc0f3f4-afa2-418a-b8f5-d139681e0140",
   "metadata": {},
   "outputs": [
    {
     "data": {
      "text/plain": [
       "CRASH DATE_CRASH TIME            2018245\n",
       "BOROUGH                          1390391\n",
       "ZIP CODE                         1390153\n",
       "LATITUDE                         1788560\n",
       "LONGITUDE                        1788560\n",
       "LOCATION                         1788560\n",
       "ON STREET NAME                   1593438\n",
       "CROSS STREET NAME                1262713\n",
       "OFF STREET NAME                   332435\n",
       "NUMBER OF PERSONS INJURED        2018227\n",
       "NUMBER OF PERSONS KILLED         2018214\n",
       "NUMBER OF PEDESTRIANS INJURED    2018245\n",
       "NUMBER OF PEDESTRIANS KILLED     2018245\n",
       "NUMBER OF CYCLIST INJURED        2018245\n",
       "NUMBER OF CYCLIST KILLED         2018245\n",
       "NUMBER OF MOTORIST INJURED       2018245\n",
       "NUMBER OF MOTORIST KILLED        2018245\n",
       "CONTRIBUTING FACTOR VEHICLE 1    2011897\n",
       "CONTRIBUTING FACTOR VEHICLE 2    1710336\n",
       "CONTRIBUTING FACTOR VEHICLE 3     143131\n",
       "CONTRIBUTING FACTOR VEHICLE 4      32123\n",
       "CONTRIBUTING FACTOR VEHICLE 5       8670\n",
       "COLLISION_ID                     2018245\n",
       "VEHICLE TYPE CODE 1              2005568\n",
       "VEHICLE TYPE CODE 2              1641255\n",
       "VEHICLE TYPE CODE 3               138147\n",
       "VEHICLE TYPE CODE 4                31052\n",
       "VEHICLE TYPE CODE 5                 8410\n",
       "dtype: int64"
      ]
     },
     "execution_count": 8,
     "metadata": {},
     "output_type": "execute_result"
    }
   ],
   "source": [
    "#Check which columns are in the dataset\n",
    "df.count()"
   ]
  },
  {
   "cell_type": "code",
   "execution_count": 52,
   "id": "bea1b232-59d3-40cd-a393-c518e3bb25e4",
   "metadata": {},
   "outputs": [
    {
     "name": "stdout",
     "output_type": "stream",
     "text": [
      "Second highest borough:  QUEENS\n",
      "number:  372457\n"
     ]
    }
   ],
   "source": [
    "#Q Which borough has had the second highest total number of crashes reported since 2012? (Ignore missing values)\n",
    "\n",
    "\n",
    "# Filter out records with missing borough information\n",
    "data_filtered = df[df['BOROUGH'].notnull()]\n",
    "\n",
    "# Count the number of crashes for each borough\n",
    "borough_crash_counts = data_filtered['BOROUGH'].value_counts()\n",
    "\n",
    "# Find the borough with the second highest total number of crashes\n",
    "second_highest = borough_crash_counts.nlargest(2).index[1]  \n",
    "second_highest_count = borough_crash_counts.iloc[1]\n",
    "\n",
    "# Display the result\n",
    "print(\"Second highest borough: \", second_highest)\n",
    "print(\"number: \",second_highest_count)"
   ]
  },
  {
   "cell_type": "code",
   "execution_count": 17,
   "id": "6cc3458f-71f5-453c-b472-fa53a544ae69",
   "metadata": {},
   "outputs": [
    {
     "name": "stdout",
     "output_type": "stream",
     "text": [
      "BOROUGH\n",
      "BROOKLYN         441026\n",
      "QUEENS           372457\n",
      "MANHATTAN        313266\n",
      "BRONX            205345\n",
      "STATEN ISLAND     58297\n",
      "Name: count, dtype: int64\n"
     ]
    }
   ],
   "source": [
    "# Find the number of crashes in each borough\n",
    "\n",
    "#Consider the entire data set since July 2012\n",
    "data_filtered = df[df['CRASH DATE_CRASH TIME'] >= '2012-07-01']\n",
    "\n",
    "# Count the number of crashes in each borough\n",
    "crash_counts_by_borough = data_filtered['BOROUGH'].value_counts()\n",
    "\n",
    "print(crash_counts_by_borough)"
   ]
  },
  {
   "cell_type": "code",
   "execution_count": 61,
   "id": "dbad80c2-6284-4d18-91a2-694b595aac9e",
   "metadata": {},
   "outputs": [
    {
     "name": "stdout",
     "output_type": "stream",
     "text": [
      "highest rate borough:  Manhattan\n",
      "Number of crash:  19121.628096767283\n"
     ]
    }
   ],
   "source": [
    "# Borough populations\n",
    "populations = {\n",
    "    'Bronx': 1446788,\n",
    "    'Brooklyn': 2648452,\n",
    "    'Manhattan': 1638281,\n",
    "    'Queens': 2330295,\n",
    "    'Staten Island': 487155,\n",
    "}\n",
    "\n",
    "# crash counts \n",
    "crash_counts = {\n",
    "    'Bronx': 205345,  \n",
    "    'Brooklyn': 441026,  \n",
    "    'Manhattan': 313266,  \n",
    "    'Queens': 372457,  \n",
    "    'Staten Island': 58297,  \n",
    "}\n",
    "\n",
    "# Calculate crash rates per 100,000 people\n",
    "crash_rates = {borough: (count / populations[borough]) * 100000 for borough, count in crash_counts.items()}\n",
    "\n",
    "# Find the borough with the highest crash rate\n",
    "highest_rate_borough = max(crash_rates, key=crash_rates.get)\n",
    "highest_rate = crash_rates[highest_rate_borough]\n",
    "\n",
    "\n",
    "print(\"highest rate borough: \", highest_rate_borough)\n",
    "print(\"Number of crash: \", highest_rate)"
   ]
  },
  {
   "cell_type": "code",
   "execution_count": 71,
   "id": "f98cf55f-4867-445a-8e6d-383a4f53c870",
   "metadata": {},
   "outputs": [
    {
     "name": "stdout",
     "output_type": "stream",
     "text": [
      "Leading Cause: Driver Inattention/Distraction\n",
      "Leading Cause: 30.417970209853078\n"
     ]
    }
   ],
   "source": [
    "#Q3. What proportion of accidents are attributable to this cause?\n",
    "\n",
    "\n",
    "# Remove rows where 'CONTRIBUTING FACTOR VEHICLE 1' is 'Unspecified'\n",
    "filtered_data = df[df['CONTRIBUTING FACTOR VEHICLE 1'] != 'Unspecified']\n",
    "\n",
    "# Find the most common contributing factor\n",
    "leading_cause = filtered_data['CONTRIBUTING FACTOR VEHICLE 1'].mode()[0]\n",
    "\n",
    "# Count the occurrences of each contributing factor\n",
    "cause_counts = filtered_data['CONTRIBUTING FACTOR VEHICLE 1'].value_counts()\n",
    "\n",
    "# Calculate the total number of crashes where the contributing factor is known\n",
    "total_known_crashes = cause_counts.sum()\n",
    "\n",
    "# Determine the number of crashes for the leading cause\n",
    "leading_cause_count = cause_counts[leading_cause]\n",
    "\n",
    "# Calculate the proportion of crashes attributable to the leading cause\n",
    "leading_cause_proportion = leading_cause_count / total_known_crashes *100\n",
    "\n",
    "print(\"Leading Cause:\",leading_cause)\n",
    "print(\"Leading Cause:\",leading_cause_proportion) "
   ]
  },
  {
   "cell_type": "code",
   "execution_count": 79,
   "id": "4b229df1-54e0-46f1-a3b3-e0abed32f6e5",
   "metadata": {},
   "outputs": [
    {
     "name": "stdout",
     "output_type": "stream",
     "text": [
      "The top 5 causes of crashes account for: 58.038783742090615\n",
      "The top 5 causes of crashes:  CONTRIBUTING FACTOR VEHICLE 1\n",
      "Driver Inattention/Distraction    401262\n",
      "Failure to Yield Right-of-Way     119166\n",
      "Following Too Closely             107467\n",
      "Backing Unsafely                   75042\n",
      "Other Vehicular                    62688\n",
      "Name: count, dtype: int64\n"
     ]
    }
   ],
   "source": [
    "#Q4 Continuing from the previous question - the top 5 causes of crashes (ignoring 'Unspecified') account for what proportion of total crashes?\n",
    "\n",
    "# Get the top 5 causes of crashes\n",
    "top_5_causes = cause_counts.head(5)\n",
    "\n",
    "# Calculate the total number of crashes for the top 5 causes\n",
    "top_5_total = top_5_causes.sum()\n",
    "\n",
    "# Calculate the proportion of total crashes accounted for by the top 5 causes\n",
    "top_5_proportion = top_5_total / total_known_crashes * 100\n",
    "\n",
    "print(\"The top 5 causes of crashes account for:\", top_5_proportion)\n",
    "print(\"The top 5 causes of crashes: \",top_5_causes)"
   ]
  },
  {
   "cell_type": "code",
   "execution_count": 83,
   "id": "6a0ebb87-0bea-4bfa-8a68-15b0574639b7",
   "metadata": {},
   "outputs": [
    {
     "name": "stdout",
     "output_type": "stream",
     "text": [
      "88\n"
     ]
    },
    {
     "name": "stderr",
     "output_type": "stream",
     "text": [
      "/tmp/ipykernel_2139/3223180382.py:5: FutureWarning: A value is trying to be set on a copy of a DataFrame or Series through chained assignment using an inplace method.\n",
      "The behavior will change in pandas 3.0. This inplace method will never work because the intermediate object on which we are setting values always behaves as a copy.\n",
      "\n",
      "For example, when doing 'df[col].method(value, inplace=True)', try using 'df.method({col: value}, inplace=True)' or df[col] = df[col].method(value) instead, to perform the operation inplace on the original object.\n",
      "\n",
      "\n",
      "  df['NUMBER OF PERSONS KILLED'].fillna(0, inplace=True)\n"
     ]
    }
   ],
   "source": [
    "#Q5 Considering the entire data since 2012, what is the total count of accidents that involved two or more fatalities?  (Missing values for the number of persons killed should be assumed to be equal to zero killed.)\n",
    "\n",
    "\n",
    "# Replace missing values in 'NUMBER OF PERSONS KILLED' with 0\n",
    "df['NUMBER OF PERSONS KILLED'].fillna(0, inplace=True)\n",
    "\n",
    "# Filter the data to include only accidents with 2 or more fatalities\n",
    "two_or_more_fatalities = df[df['NUMBER OF PERSONS KILLED'] >= 2]\n",
    "\n",
    "# Count the number of such accidents\n",
    "total_accidents = two_or_more_fatalities.shape[0]\n",
    "\n",
    "print(total_accidents)\n"
   ]
  },
  {
   "cell_type": "code",
   "execution_count": 87,
   "id": "aca6bc45-cd8e-4726-a644-53bccaf5bf42",
   "metadata": {},
   "outputs": [
    {
     "name": "stdout",
     "output_type": "stream",
     "text": [
      "1.3893258747079764  accidents result in at least one fatality per 1000 accidents\n"
     ]
    },
    {
     "name": "stderr",
     "output_type": "stream",
     "text": [
      "/tmp/ipykernel_2139/2569581752.py:5: FutureWarning: A value is trying to be set on a copy of a DataFrame or Series through chained assignment using an inplace method.\n",
      "The behavior will change in pandas 3.0. This inplace method will never work because the intermediate object on which we are setting values always behaves as a copy.\n",
      "\n",
      "For example, when doing 'df[col].method(value, inplace=True)', try using 'df.method({col: value}, inplace=True)' or df[col] = df[col].method(value) instead, to perform the operation inplace on the original object.\n",
      "\n",
      "\n",
      "  df['NUMBER OF PERSONS KILLED'].fillna(0, inplace=True)\n"
     ]
    }
   ],
   "source": [
    "#Q6 On average, for every 1000 accidents, how many have resulted in at least one person dead? (hint: divide the count of accidents with 1 or more deaths with the total number of accidents, and multiply by 1000)\n",
    "\n",
    "\n",
    "\n",
    "df['NUMBER OF PERSONS KILLED'].fillna(0, inplace=True)\n",
    "\n",
    "# Count the number of accidents where at least one person was killed\n",
    "accidents_with_fatalities = df[df['NUMBER OF PERSONS KILLED'] >= 1].shape[0]\n",
    "\n",
    "# Get the total number of accidents\n",
    "total_accidents = df.shape[0]\n",
    "\n",
    "# Calculate the rate of fatal accidents per 1000 accidents\n",
    "fatal_accidents = (accidents_with_fatalities / total_accidents) * 1000\n",
    "\n",
    "\n",
    "print(fatal_accidents,\" accidents result in at least one fatality per 1000 accidents\")\n"
   ]
  },
  {
   "cell_type": "code",
   "execution_count": 89,
   "id": "4f7546a7-3969-42e6-a809-4cec0e4aadee",
   "metadata": {},
   "outputs": [
    {
     "name": "stdout",
     "output_type": "stream",
     "text": [
      "The proportion of accidents without a Cross Street Name is 37.4350983156158\n"
     ]
    }
   ],
   "source": [
    "#Q7 What proportion of accidents in the data do not have a Cross Street Name?\n",
    "\n",
    "\n",
    "\n",
    "# Count the number of accidents where 'CROSS STREET NAME' is missing or blank\n",
    "missing_cross_street_count = df['CROSS STREET NAME'].isnull().sum()\n",
    "\n",
    "# Calculate the total number of accidents in the dataset\n",
    "total_accidents = df.shape[0]\n",
    "\n",
    "# Calculate the proportion of accidents without a 'CROSS STREET NAME'\n",
    "proportion_missing_cross_street = missing_cross_street_count / total_accidents*100\n",
    "\n",
    "print(\"The proportion of accidents without a Cross Street Name is\", proportion_missing_cross_street)\n"
   ]
  },
  {
   "cell_type": "code",
   "execution_count": 90,
   "id": "7b3cbed1-e44e-4e08-8050-42e4a773181f",
   "metadata": {},
   "outputs": [
    {
     "name": "stdout",
     "output_type": "stream",
     "text": [
      "The most common vehicle combination involved in accidents is: Sedan and Sedan\n"
     ]
    }
   ],
   "source": [
    "#Q8 The fields 'VEHICLE TYPE CODE 1' and 'VEHICLE TYPE CODE 2' represent the first two vehicles involved in the accident. Which combination of vehicles have the most number of accidents?\n",
    "\n",
    "# Group by 'VEHICLE TYPE CODE 1' and 'VEHICLE TYPE CODE 2' and count the number of accidents\n",
    "vehicle_combination_counts = df.groupby(['VEHICLE TYPE CODE 1', 'VEHICLE TYPE CODE 2']).size().reset_index(name='counts')\n",
    "\n",
    "# Find the combination with the most accidents\n",
    "most_common_combination = vehicle_combination_counts.loc[vehicle_combination_counts['counts'].idxmax()]\n",
    "\n",
    "print(f\"The most common vehicle combination involved in accidents is: {most_common_combination['VEHICLE TYPE CODE 1']} and {most_common_combination['VEHICLE TYPE CODE 2']}\")\n"
   ]
  },
  {
   "cell_type": "code",
   "execution_count": 92,
   "id": "401100e0-8d3c-4179-ad65-927d4b648e24",
   "metadata": {},
   "outputs": [
    {
     "name": "stdout",
     "output_type": "stream",
     "text": [
      "The proportion of alcohol-related accidents that resulted in at least one fatality is  0.46638345031400075\n"
     ]
    }
   ],
   "source": [
    "#Q9 Among crashes where the contributing factor (CONTRIBUTING FACTOR VEHICLE 1) was alcohol involvement, what proportion resulted in a fatality?\n",
    "\n",
    "# Filter for accidents where alcohol was a contributing factor\n",
    "alcohol_related = df[df['CONTRIBUTING FACTOR VEHICLE 1'] == 'Alcohol Involvement']\n",
    "\n",
    "# Filter for accidents in this subset that had at least one fatality\n",
    "fatalities = alcohol_related[alcohol_related['NUMBER OF PERSONS KILLED'] > 0]\n",
    "\n",
    "# Calculate the proportion of these accidents that resulted in at least one fatality\n",
    "proportion_fatalities = len(fatalities) / len(alcohol_related)*100\n",
    "\n",
    "print(\"The proportion of alcohol-related accidents that resulted in at least one fatality is \", proportion_fatalities)"
   ]
  },
  {
   "cell_type": "code",
   "execution_count": 94,
   "id": "6603f0d2-57f0-4412-9e29-78e0b794f1e5",
   "metadata": {},
   "outputs": [
    {
     "name": "stdout",
     "output_type": "stream",
     "text": [
      "The proportion of crashes occur during the evening rush hour  20.514010935243242\n"
     ]
    }
   ],
   "source": [
    "#Q10 What proportion of crashes occur during the evening rush hour, defined as starting at 4 PM, and before 7 PM?\n",
    "\n",
    "df['CRASH DATE_CRASH TIME'] = pd.to_datetime(df['CRASH DATE_CRASH TIME'])\n",
    "\n",
    "evening_rush_hour_crashes = df[(df['CRASH DATE_CRASH TIME'].dt.hour >= 16) & (df['CRASH DATE_CRASH TIME'].dt.hour < 19)]\n",
    "\n",
    "proportion_evening_rush_hour = len(evening_rush_hour_crashes) / len(df) * 100\n",
    "\n",
    "print(\"The proportion of crashes occur during the evening rush hour \", proportion_evening_rush_hour)"
   ]
  },
  {
   "cell_type": "code",
   "execution_count": 96,
   "id": "ccaecac6-2b12-4d5f-8bf5-804c08ae077d",
   "metadata": {},
   "outputs": [
    {
     "name": "stdout",
     "output_type": "stream",
     "text": [
      "The proportion resulted in injuries but no fatalities is  50.04565018912221\n"
     ]
    }
   ],
   "source": [
    "#Q11 Among crashes involving motorcycles, what proportion resulted in injuries but no fatalities?\n",
    "\n",
    "motorcycle_accidents = df[(df['VEHICLE TYPE CODE 1'].str.contains('MOTORCYCLE', na=False)) |\n",
    "                            (df['VEHICLE TYPE CODE 2'].str.contains('MOTORCYCLE', na=False))]\n",
    "\n",
    "injuries_no_fatalities = motorcycle_accidents[(motorcycle_accidents['NUMBER OF PERSONS INJURED'] > 0) &\n",
    "                                              (motorcycle_accidents['NUMBER OF PERSONS KILLED'] == 0)]\n",
    "\n",
    "# Calculate the proportion of these accidents within the motorcycle-involved accidents\n",
    "proportion_injuries_no_fatalities = len(injuries_no_fatalities) / len(motorcycle_accidents) * 100\n",
    "\n",
    "print(\"The proportion resulted in injuries but no fatalities is \", proportion_injuries_no_fatalities )"
   ]
  },
  {
   "cell_type": "code",
   "execution_count": 98,
   "id": "83d7b5b0-5615-4274-b0ce-ad78e5197c0b",
   "metadata": {},
   "outputs": [
    {
     "name": "stdout",
     "output_type": "stream",
     "text": [
      "The total number of crashes involving bicycles:  19108\n"
     ]
    }
   ],
   "source": [
    "#Q12 How many crashes involved bicycles as one of the vehicles?\n",
    "\n",
    "#Filter for accidents where either vehicle type code indicates a bicycle\n",
    "bicycle_accidents = df[(df['VEHICLE TYPE CODE 1'].str.contains('BICYCLE', na=False)) |\n",
    "                         (df['VEHICLE TYPE CODE 2'].str.contains('BICYCLE', na=False))]\n",
    "\n",
    "# Count the number of such accidents\n",
    "total_bicycle_accidents = len(bicycle_accidents)\n",
    "\n",
    "print(\"The total number of crashes involving bicycles: \", total_bicycle_accidents)"
   ]
  },
  {
   "cell_type": "code",
   "execution_count": null,
   "id": "75dbfea6-8cd2-44ed-bb59-c1e54dbfeb80",
   "metadata": {},
   "outputs": [],
   "source": []
  }
 ],
 "metadata": {
  "kernelspec": {
   "display_name": "Python 3 (ipykernel)",
   "language": "python",
   "name": "python3"
  },
  "language_info": {
   "codemirror_mode": {
    "name": "ipython",
    "version": 3
   },
   "file_extension": ".py",
   "mimetype": "text/x-python",
   "name": "python",
   "nbconvert_exporter": "python",
   "pygments_lexer": "ipython3",
   "version": "3.11.6"
  }
 },
 "nbformat": 4,
 "nbformat_minor": 5
}
