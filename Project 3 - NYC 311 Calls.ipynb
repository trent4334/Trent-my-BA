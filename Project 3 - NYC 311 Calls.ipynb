{
 "cells": [
  {
   "cell_type": "code",
   "execution_count": 17,
   "id": "a96ea80c",
   "metadata": {},
   "outputs": [],
   "source": [
    "pip install prophet\n"
   ]
  },
  {
   "cell_type": "code",
   "execution_count": 11,
   "id": "8e5f810a",
   "metadata": {},
   "outputs": [],
   "source": [
    "import pandas as pd\n",
    "from prophet import Prophet\n",
    "from prophet.diagnostics import performance_metrics\n",
    "from sklearn.metrics import mean_squared_error\n",
    "import numpy as np\n"
   ]
  },
  {
   "cell_type": "code",
   "execution_count": 2,
   "id": "a0a5b9d7",
   "metadata": {},
   "outputs": [],
   "source": [
    "df = pd.read_pickle(\"Project-3_NYC_311_Calls.pkl\")\n"
   ]
  },
  {
   "cell_type": "code",
   "execution_count": 20,
   "id": "7bfdcb3b",
   "metadata": {},
   "outputs": [
    {
     "name": "stdout",
     "output_type": "stream",
     "text": [
      "The average number of daily complaints in 2022 was: 8684.320547945206\n"
     ]
    }
   ],
   "source": [
    "#Q1. What is the average number of daily complaints received in 2022?\n",
    "\n",
    "# Convert 'Created Date' to datetime format\n",
    "df['Created Date'] = pd.to_datetime(df['Created Date'])\n",
    "\n",
    "# Filter data for 2022\n",
    "df_2022 = df[df['Created Date'].dt.year == 2022]\n",
    "\n",
    "# Resample to get daily counts of complaints\n",
    "daily_complaints = df_2022.resample('D', on='Created Date').count()\n",
    "\n",
    "# Calculate the average number of daily complaints\n",
    "average_daily_complaints = daily_complaints['Unique Key'].mean()\n",
    "\n",
    "print(f\"The average number of daily complaints in 2022 was: {average_daily_complaints}\")\n"
   ]
  },
  {
   "cell_type": "code",
   "execution_count": 3,
   "id": "d9ba2044",
   "metadata": {},
   "outputs": [
    {
     "name": "stdout",
     "output_type": "stream",
     "text": [
      "The maximum number of calls received was on 2020-08-04 with 24415 calls.\n"
     ]
    }
   ],
   "source": [
    "#Q2. On which single date were the maximum number of calls received?\n",
    "\n",
    "\n",
    "df['Created Date'] = pd.to_datetime(df['Created Date'])\n",
    "\n",
    "# Resample to get daily counts of complaints\n",
    "daily_complaints = df.resample('D', on='Created Date').count()\n",
    "\n",
    "# Find the date with the maximum number of complaints\n",
    "max_complaints_date = daily_complaints['Unique Key'].idxmax()\n",
    "max_complaints_value = daily_complaints['Unique Key'].max()\n",
    "\n",
    "print(f\"The maximum number of calls received was on {max_complaints_date.date()} with {max_complaints_value} calls.\")"
   ]
  },
  {
   "cell_type": "code",
   "execution_count": 4,
   "id": "0376f4f6",
   "metadata": {},
   "outputs": [
    {
     "name": "stdout",
     "output_type": "stream",
     "text": [
      "On 2020-08-04, the most common complaint type was 'Damaged Tree' with 14863 occurrences.\n"
     ]
    }
   ],
   "source": [
    "#Q3. On the date the maximum number of calls were received, what was the most important complaint type?\n",
    "\n",
    "\n",
    "# Convert 'Created Date' to datetime format\n",
    "df['Created Date'] = pd.to_datetime(df['Created Date'])\n",
    "\n",
    "# Resample to get daily counts of complaints\n",
    "daily_complaints = df.resample('D', on='Created Date').count()\n",
    "\n",
    "# Find the date with the maximum number of complaints\n",
    "max_complaints_date = daily_complaints['Unique Key'].idxmax()\n",
    "\n",
    "# Filter the DataFrame for just the max complaints date\n",
    "df_max_date = df[df['Created Date'].dt.date == max_complaints_date.date()]\n",
    "\n",
    "# Find the most common complaint type on this date\n",
    "most_common_complaint = df_max_date['Complaint Type'].value_counts().idxmax()\n",
    "complaint_count = df_max_date['Complaint Type'].value_counts().max()\n",
    "\n",
    "print(f\"On {max_complaints_date.date()}, the most common complaint type was '{most_common_complaint}' with {complaint_count} occurrences.\")\n"
   ]
  },
  {
   "cell_type": "code",
   "execution_count": 5,
   "id": "8f0363ea",
   "metadata": {},
   "outputs": [
    {
     "name": "stdout",
     "output_type": "stream",
     "text": [
      "The quietest month historically is December with 2596986 calls.\n"
     ]
    }
   ],
   "source": [
    "#Q4. Quietest month: Group the data by months, and identify the month that historically has the fewest number of calls.\n",
    "\n",
    "# Convert 'Created Date' to datetime format if it hasn't been converted\n",
    "df['Created Date'] = pd.to_datetime(df['Created Date'])\n",
    "\n",
    "# Group the data by month (ignoring the year) and count the number of complaints each month\n",
    "monthly_complaints = df.groupby(df['Created Date'].dt.month).count()\n",
    "\n",
    "# Find the month with the fewest calls\n",
    "quietest_month = monthly_complaints['Unique Key'].idxmin()\n",
    "quietest_month_count = monthly_complaints['Unique Key'].min()\n",
    "\n",
    "# You might want to convert month number to month name for readability\n",
    "import calendar\n",
    "month_name = calendar.month_name[quietest_month]\n",
    "\n",
    "print(f\"The quietest month historically is {month_name} with {quietest_month_count} calls.\")\n"
   ]
  },
  {
   "cell_type": "code",
   "execution_count": 6,
   "id": "11636d7b",
   "metadata": {},
   "outputs": [
    {
     "name": "stdout",
     "output_type": "stream",
     "text": [
      "The seasonal component on 2020-12-25 is approximately -1106\n"
     ]
    }
   ],
   "source": [
    "#Q5. Resample your time series to a daily frequency.  \n",
    "#Perform ETS decomposition based on an additive model.  \n",
    "#What is the value of the seasonal component on 2020-12-25 (rounded to the nearest integer)?\n",
    "\n",
    "\n",
    "import statsmodels.api as sm\n",
    "from statsmodels.tsa.seasonal import seasonal_decompose\n",
    "\n",
    "# Load your dataset\n",
    "df = pd.read_pickle(\"Project-3_NYC_311_Calls.pkl\")\n",
    "\n",
    "# Ensure 'Created Date' is in datetime format\n",
    "df['Created Date'] = pd.to_datetime(df['Created Date'])\n",
    "\n",
    "# Resample the data to daily frequency, counting the number of complaints per day\n",
    "daily_data = df.resample('D', on='Created Date').count()['Unique Key']\n",
    "\n",
    "# Perform ETS decomposition on the daily data\n",
    "decomposition = seasonal_decompose(daily_data, model='additive', period=365)  # Assuming yearly seasonality\n",
    "\n",
    "# Extract the seasonal component\n",
    "seasonal = decomposition.seasonal\n",
    "\n",
    "# Find the seasonal component for December 25, 2020\n",
    "seasonal_value = seasonal['2020-12-25']\n",
    "\n",
    "print(f\"The seasonal component on 2020-12-25 is approximately {round(seasonal_value)}\")\n",
    "\n"
   ]
  },
  {
   "cell_type": "code",
   "execution_count": 8,
   "id": "9f62f553",
   "metadata": {},
   "outputs": [
    {
     "name": "stdout",
     "output_type": "stream",
     "text": [
      "The autocorrelation of the number of daily calls with the number of calls the day prior (lag of 1) is: 0.7517059728398577\n"
     ]
    }
   ],
   "source": [
    "#Q6. Calculate the autocorrelation of the number of daily calls with the number of calls the day prior, ie lag of 1.  (Use the daily series).\n",
    "\n",
    " \n",
    "\n",
    "# Ensure 'Created Date' is in datetime format\n",
    "df['Created Date'] = pd.to_datetime(df['Created Date'])\n",
    "\n",
    "# Resample the data to daily frequency, counting the number of complaints per day\n",
    "daily_data = df.resample('D', on='Created Date').count()['Unique Key']\n",
    "\n",
    "# Calculate autocorrelation with a lag of 1\n",
    "autocorrelation_lag_1 = daily_data.autocorr(lag=1)\n",
    "\n",
    "print(f\"The autocorrelation of the number of daily calls with the number of calls the day prior (lag of 1) is: {autocorrelation_lag_1}\")\n"
   ]
  },
  {
   "cell_type": "code",
   "execution_count": 12,
   "id": "e5b7ecbb",
   "metadata": {},
   "outputs": [],
   "source": [
    "#Q7.Forecast the daily series with a test set of 90 days using the Prophet library. \n",
    "#What is your RMSE on your test set?\n",
    "\n",
    "\n",
    "\n",
    "# Resample the data to daily frequency, counting the number of complaints per day\n",
    "df_daily = df.resample('D', on='Created Date').count()['Unique Key'].reset_index()\n",
    "df_daily.columns = ['ds', 'y']\n"
   ]
  },
  {
   "cell_type": "code",
   "execution_count": 13,
   "id": "8190e401",
   "metadata": {},
   "outputs": [],
   "source": [
    "# Define the point to split the data - last 90 days as test set\n",
    "split_date = df_daily['ds'].max() - pd.Timedelta(days=90)\n",
    "\n",
    "# Create training and test sets\n",
    "train = df_daily[df_daily['ds'] <= split_date]\n",
    "test = df_daily[df_daily['ds'] > split_date]"
   ]
  },
  {
   "cell_type": "code",
   "execution_count": 14,
   "id": "8ac8abc4",
   "metadata": {},
   "outputs": [
    {
     "name": "stderr",
     "output_type": "stream",
     "text": [
      "20:36:33 - cmdstanpy - INFO - Chain [1] start processing\n",
      "20:36:35 - cmdstanpy - INFO - Chain [1] done processing\n"
     ]
    },
    {
     "data": {
      "text/plain": [
       "<prophet.forecaster.Prophet at 0x7f98f5ab8a90>"
      ]
     },
     "execution_count": 14,
     "metadata": {},
     "output_type": "execute_result"
    }
   ],
   "source": [
    "# Initialize the Model\n",
    "model = Prophet()\n",
    "model.fit(train)"
   ]
  },
  {
   "cell_type": "code",
   "execution_count": 15,
   "id": "4ebb9a54",
   "metadata": {},
   "outputs": [],
   "source": [
    "# Make a dataframe for predictions\n",
    "future = test.drop('y', axis=1)\n",
    "\n",
    "# Use the model to make predictions\n",
    "forecast = model.predict(future)"
   ]
  },
  {
   "cell_type": "code",
   "execution_count": 16,
   "id": "0c1f0f64",
   "metadata": {},
   "outputs": [
    {
     "name": "stdout",
     "output_type": "stream",
     "text": [
      "RMSE on the test set is: 1233.7312313093698\n"
     ]
    }
   ],
   "source": [
    "# Calculate RMSE\n",
    "rmse = np.sqrt(mean_squared_error(test['y'], forecast['yhat']))\n",
    "print(f\"RMSE on the test set is: {rmse}\")\n"
   ]
  },
  {
   "cell_type": "code",
   "execution_count": null,
   "id": "4f8ef0ee",
   "metadata": {},
   "outputs": [],
   "source": []
  }
 ],
 "metadata": {
  "kernelspec": {
   "display_name": "Python 3 (ipykernel)",
   "language": "python",
   "name": "python3"
  },
  "language_info": {
   "codemirror_mode": {
    "name": "ipython",
    "version": 3
   },
   "file_extension": ".py",
   "mimetype": "text/x-python",
   "name": "python",
   "nbconvert_exporter": "python",
   "pygments_lexer": "ipython3",
   "version": "3.9.13"
  }
 },
 "nbformat": 4,
 "nbformat_minor": 5
}
