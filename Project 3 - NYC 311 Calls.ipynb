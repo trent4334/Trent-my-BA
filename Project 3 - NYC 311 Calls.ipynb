{
 "cells": [
  {
   "cell_type": "code",
   "execution_count": 10,
   "id": "48c3e74e",
   "metadata": {},
   "outputs": [
    {
     "name": "stdout",
     "output_type": "stream",
     "text": [
      "Collecting prophet\n",
      "  Downloading prophet-1.1.5-py3-none-macosx_10_9_x86_64.whl (8.8 MB)\n",
      "\u001b[2K     \u001b[90m━━━━━━━━━━━━━━━━━━━━━━━━━━━━━━━━━━━━━━━━\u001b[0m \u001b[32m8.8/8.8 MB\u001b[0m \u001b[31m2.0 MB/s\u001b[0m eta \u001b[36m0:00:00\u001b[0m00:01\u001b[0m00:01\u001b[0m\n",
      "\u001b[?25hCollecting holidays>=0.25\n",
      "  Downloading holidays-0.47-py3-none-any.whl (1.0 MB)\n",
      "\u001b[2K     \u001b[90m━━━━━━━━━━━━━━━━━━━━━━━━━━━━━━━━━━━━━━━━\u001b[0m \u001b[32m1.0/1.0 MB\u001b[0m \u001b[31m1.5 MB/s\u001b[0m eta \u001b[36m0:00:00\u001b[0m00:01\u001b[0m00:01\u001b[0m\n",
      "\u001b[?25hCollecting cmdstanpy>=1.0.4\n",
      "  Downloading cmdstanpy-1.2.2-py3-none-any.whl (94 kB)\n",
      "\u001b[2K     \u001b[90m━━━━━━━━━━━━━━━━━━━━━━━━━━━━━━━━━━━━━━━━\u001b[0m \u001b[32m94.4/94.4 kB\u001b[0m \u001b[31m1.4 MB/s\u001b[0m eta \u001b[36m0:00:00\u001b[0ma \u001b[36m0:00:01\u001b[0m\n",
      "\u001b[?25hCollecting importlib-resources\n",
      "  Downloading importlib_resources-6.4.0-py3-none-any.whl (38 kB)\n",
      "Requirement already satisfied: pandas>=1.0.4 in /Users/trentyu/opt/anaconda3/lib/python3.9/site-packages (from prophet) (1.4.4)\n",
      "Requirement already satisfied: tqdm>=4.36.1 in /Users/trentyu/opt/anaconda3/lib/python3.9/site-packages (from prophet) (4.64.1)\n",
      "Requirement already satisfied: matplotlib>=2.0.0 in /Users/trentyu/opt/anaconda3/lib/python3.9/site-packages (from prophet) (3.5.2)\n",
      "Requirement already satisfied: numpy>=1.15.4 in /Users/trentyu/opt/anaconda3/lib/python3.9/site-packages (from prophet) (1.24.4)\n",
      "Collecting stanio<2.0.0,>=0.4.0\n",
      "  Downloading stanio-0.5.0-py3-none-any.whl (8.0 kB)\n",
      "Requirement already satisfied: python-dateutil in /Users/trentyu/opt/anaconda3/lib/python3.9/site-packages (from holidays>=0.25->prophet) (2.8.2)\n",
      "Requirement already satisfied: fonttools>=4.22.0 in /Users/trentyu/opt/anaconda3/lib/python3.9/site-packages (from matplotlib>=2.0.0->prophet) (4.25.0)\n",
      "Requirement already satisfied: pyparsing>=2.2.1 in /Users/trentyu/opt/anaconda3/lib/python3.9/site-packages (from matplotlib>=2.0.0->prophet) (3.0.9)\n",
      "Requirement already satisfied: cycler>=0.10 in /Users/trentyu/opt/anaconda3/lib/python3.9/site-packages (from matplotlib>=2.0.0->prophet) (0.11.0)\n",
      "Requirement already satisfied: packaging>=20.0 in /Users/trentyu/opt/anaconda3/lib/python3.9/site-packages (from matplotlib>=2.0.0->prophet) (21.3)\n",
      "Requirement already satisfied: kiwisolver>=1.0.1 in /Users/trentyu/opt/anaconda3/lib/python3.9/site-packages (from matplotlib>=2.0.0->prophet) (1.4.2)\n",
      "Requirement already satisfied: pillow>=6.2.0 in /Users/trentyu/opt/anaconda3/lib/python3.9/site-packages (from matplotlib>=2.0.0->prophet) (9.2.0)\n",
      "Requirement already satisfied: pytz>=2020.1 in /Users/trentyu/opt/anaconda3/lib/python3.9/site-packages (from pandas>=1.0.4->prophet) (2023.3.post1)\n",
      "Requirement already satisfied: zipp>=3.1.0 in /Users/trentyu/opt/anaconda3/lib/python3.9/site-packages (from importlib-resources->prophet) (3.8.0)\n",
      "Requirement already satisfied: six>=1.5 in /Users/trentyu/opt/anaconda3/lib/python3.9/site-packages (from python-dateutil->holidays>=0.25->prophet) (1.16.0)\n",
      "Installing collected packages: stanio, importlib-resources, holidays, cmdstanpy, prophet\n",
      "Successfully installed cmdstanpy-1.2.2 holidays-0.47 importlib-resources-6.4.0 prophet-1.1.5 stanio-0.5.0\n",
      "Note: you may need to restart the kernel to use updated packages.\n"
     ]
    }
   ],
   "source": [
    "pip install prophet\n"
   ]
  },
  {
   "cell_type": "code",
   "execution_count": 11,
   "id": "4c7f8b49",
   "metadata": {},
   "outputs": [],
   "source": [
    "import pandas as pd\n",
    "from prophet import Prophet\n",
    "from prophet.diagnostics import performance_metrics\n",
    "from sklearn.metrics import mean_squared_error\n",
    "import numpy as np\n"
   ]
  },
  {
   "cell_type": "code",
   "execution_count": 2,
   "id": "f115edd9",
   "metadata": {},
   "outputs": [],
   "source": [
    "df = pd.read_pickle(\"Project-3_NYC_311_Calls.pkl\")\n"
   ]
  },
  {
   "cell_type": "code",
   "execution_count": 3,
   "id": "2118a919",
   "metadata": {},
   "outputs": [
    {
     "name": "stdout",
     "output_type": "stream",
     "text": [
      "The maximum number of calls received was on 2020-08-04 with 24415 calls.\n"
     ]
    }
   ],
   "source": [
    "# Assuming 'data' is already loaded and 'Created Date' has been converted to datetime\n",
    "# Filter for the year if needed or use entire dataset if you want the maximum across all available years\n",
    "df['Created Date'] = pd.to_datetime(df['Created Date'])\n",
    "\n",
    "# Resample to get daily counts of complaints\n",
    "daily_complaints = df.resample('D', on='Created Date').count()\n",
    "\n",
    "# Find the date with the maximum number of complaints\n",
    "max_complaints_date = daily_complaints['Unique Key'].idxmax()\n",
    "max_complaints_value = daily_complaints['Unique Key'].max()\n",
    "\n",
    "print(f\"The maximum number of calls received was on {max_complaints_date.date()} with {max_complaints_value} calls.\")"
   ]
  },
  {
   "cell_type": "code",
   "execution_count": 4,
   "id": "36af28c3",
   "metadata": {},
   "outputs": [
    {
     "name": "stdout",
     "output_type": "stream",
     "text": [
      "On 2020-08-04, the most common complaint type was 'Damaged Tree' with 14863 occurrences.\n"
     ]
    }
   ],
   "source": [
    "# Convert 'Created Date' to datetime format\n",
    "df['Created Date'] = pd.to_datetime(df['Created Date'])\n",
    "\n",
    "# Resample to get daily counts of complaints\n",
    "daily_complaints = df.resample('D', on='Created Date').count()\n",
    "\n",
    "# Find the date with the maximum number of complaints\n",
    "max_complaints_date = daily_complaints['Unique Key'].idxmax()\n",
    "\n",
    "# Filter the DataFrame for just the max complaints date\n",
    "df_max_date = df[df['Created Date'].dt.date == max_complaints_date.date()]\n",
    "\n",
    "# Find the most common complaint type on this date\n",
    "most_common_complaint = df_max_date['Complaint Type'].value_counts().idxmax()\n",
    "complaint_count = df_max_date['Complaint Type'].value_counts().max()\n",
    "\n",
    "print(f\"On {max_complaints_date.date()}, the most common complaint type was '{most_common_complaint}' with {complaint_count} occurrences.\")\n"
   ]
  },
  {
   "cell_type": "code",
   "execution_count": 5,
   "id": "593fdac8",
   "metadata": {},
   "outputs": [
    {
     "name": "stdout",
     "output_type": "stream",
     "text": [
      "The quietest month historically is December with 2596986 calls.\n"
     ]
    }
   ],
   "source": [
    "\n",
    "# Convert 'Created Date' to datetime format if it hasn't been converted\n",
    "df['Created Date'] = pd.to_datetime(df['Created Date'])\n",
    "\n",
    "# Group the data by month (ignoring the year) and count the number of complaints each month\n",
    "monthly_complaints = df.groupby(df['Created Date'].dt.month).count()\n",
    "\n",
    "# Find the month with the fewest calls\n",
    "quietest_month = monthly_complaints['Unique Key'].idxmin()\n",
    "quietest_month_count = monthly_complaints['Unique Key'].min()\n",
    "\n",
    "# You might want to convert month number to month name for readability\n",
    "import calendar\n",
    "month_name = calendar.month_name[quietest_month]\n",
    "\n",
    "print(f\"The quietest month historically is {month_name} with {quietest_month_count} calls.\")\n"
   ]
  },
  {
   "cell_type": "code",
   "execution_count": 6,
   "id": "4565effa",
   "metadata": {},
   "outputs": [
    {
     "name": "stdout",
     "output_type": "stream",
     "text": [
      "The seasonal component on 2020-12-25 is approximately -1106\n"
     ]
    }
   ],
   "source": [
    "\n",
    "import statsmodels.api as sm\n",
    "from statsmodels.tsa.seasonal import seasonal_decompose\n",
    "\n",
    "# Load your dataset\n",
    "df = pd.read_pickle(\"Project-3_NYC_311_Calls.pkl\")\n",
    "\n",
    "# Ensure 'Created Date' is in datetime format\n",
    "df['Created Date'] = pd.to_datetime(df['Created Date'])\n",
    "\n",
    "# Resample the data to daily frequency, counting the number of complaints per day\n",
    "daily_data = df.resample('D', on='Created Date').count()['Unique Key']\n",
    "\n",
    "# Perform ETS decomposition on the daily data\n",
    "decomposition = seasonal_decompose(daily_data, model='additive', period=365)  # Assuming yearly seasonality\n",
    "\n",
    "# Extract the seasonal component\n",
    "seasonal = decomposition.seasonal\n",
    "\n",
    "# Find the seasonal component for December 25, 2020\n",
    "seasonal_value = seasonal['2020-12-25']\n",
    "\n",
    "print(f\"The seasonal component on 2020-12-25 is approximately {round(seasonal_value)}\")\n",
    "\n"
   ]
  },
  {
   "cell_type": "code",
   "execution_count": 8,
   "id": "6cd761c2",
   "metadata": {},
   "outputs": [
    {
     "name": "stdout",
     "output_type": "stream",
     "text": [
      "The autocorrelation of the number of daily calls with the number of calls the day prior (lag of 1) is: 0.7517059728398577\n"
     ]
    }
   ],
   "source": [
    "\n",
    "\n",
    "# Ensure 'Created Date' is in datetime format\n",
    "df['Created Date'] = pd.to_datetime(df['Created Date'])\n",
    "\n",
    "# Resample the data to daily frequency, counting the number of complaints per day\n",
    "daily_data = df.resample('D', on='Created Date').count()['Unique Key']\n",
    "\n",
    "# Calculate autocorrelation with a lag of 1\n",
    "autocorrelation_lag_1 = daily_data.autocorr(lag=1)\n",
    "\n",
    "print(f\"The autocorrelation of the number of daily calls with the number of calls the day prior (lag of 1) is: {autocorrelation_lag_1}\")\n"
   ]
  },
  {
   "cell_type": "code",
   "execution_count": 12,
   "id": "2b05a0a0",
   "metadata": {},
   "outputs": [],
   "source": [
    "# Resample the data to daily frequency, counting the number of complaints per day\n",
    "df_daily = df.resample('D', on='Created Date').count()['Unique Key'].reset_index()\n",
    "df_daily.columns = ['ds', 'y']\n"
   ]
  },
  {
   "cell_type": "code",
   "execution_count": 13,
   "id": "20d7410c",
   "metadata": {},
   "outputs": [],
   "source": [
    "# Define the point to split the data - last 90 days as test set\n",
    "split_date = df_daily['ds'].max() - pd.Timedelta(days=90)\n",
    "\n",
    "# Create training and test sets\n",
    "train = df_daily[df_daily['ds'] <= split_date]\n",
    "test = df_daily[df_daily['ds'] > split_date]"
   ]
  },
  {
   "cell_type": "code",
   "execution_count": 14,
   "id": "c67deed4",
   "metadata": {},
   "outputs": [
    {
     "name": "stderr",
     "output_type": "stream",
     "text": [
      "20:36:33 - cmdstanpy - INFO - Chain [1] start processing\n",
      "20:36:35 - cmdstanpy - INFO - Chain [1] done processing\n"
     ]
    },
    {
     "data": {
      "text/plain": [
       "<prophet.forecaster.Prophet at 0x7f98f5ab8a90>"
      ]
     },
     "execution_count": 14,
     "metadata": {},
     "output_type": "execute_result"
    }
   ],
   "source": [
    "# Initialize the Model\n",
    "model = Prophet()\n",
    "model.fit(train)"
   ]
  },
  {
   "cell_type": "code",
   "execution_count": 15,
   "id": "c4aff3e2",
   "metadata": {},
   "outputs": [],
   "source": [
    "# Make a dataframe for predictions\n",
    "future = test.drop('y', axis=1)\n",
    "\n",
    "# Use the model to make predictions\n",
    "forecast = model.predict(future)"
   ]
  },
  {
   "cell_type": "code",
   "execution_count": 16,
   "id": "f39fc42d",
   "metadata": {},
   "outputs": [
    {
     "name": "stdout",
     "output_type": "stream",
     "text": [
      "RMSE on the test set is: 1233.7312313093698\n"
     ]
    }
   ],
   "source": [
    "# Calculate RMSE\n",
    "rmse = np.sqrt(mean_squared_error(test['y'], forecast['yhat']))\n",
    "print(f\"RMSE on the test set is: {rmse}\")\n"
   ]
  },
  {
   "cell_type": "code",
   "execution_count": null,
   "id": "ad191dea",
   "metadata": {},
   "outputs": [],
   "source": []
  }
 ],
 "metadata": {
  "kernelspec": {
   "display_name": "Python 3 (ipykernel)",
   "language": "python",
   "name": "python3"
  },
  "language_info": {
   "codemirror_mode": {
    "name": "ipython",
    "version": 3
   },
   "file_extension": ".py",
   "mimetype": "text/x-python",
   "name": "python",
   "nbconvert_exporter": "python",
   "pygments_lexer": "ipython3",
   "version": "3.9.13"
  }
 },
 "nbformat": 4,
 "nbformat_minor": 5
}
